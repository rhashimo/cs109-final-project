{
 "cells": [
  {
   "cell_type": "markdown",
   "metadata": {},
   "source": [
    "# Initial setting"
   ]
  },
  {
   "cell_type": "markdown",
   "metadata": {},
   "source": [
    "## libraries"
   ]
  },
  {
   "cell_type": "code",
   "execution_count": 1,
   "metadata": {},
   "outputs": [
    {
     "data": {
      "text/html": [
       "<style>\n",
       "blockquote { background: #AEDE94; }\n",
       "h1 { \n",
       "    padding-top: 25px;\n",
       "    padding-bottom: 25px;\n",
       "    text-align: left; \n",
       "    padding-left: 10px;\n",
       "    background-color: #DDDDDD; \n",
       "    color: black;\n",
       "}\n",
       "h2 { \n",
       "    padding-top: 10px;\n",
       "    padding-bottom: 10px;\n",
       "    text-align: left; \n",
       "    padding-left: 5px;\n",
       "    background-color: #EEEEEE; \n",
       "    color: black;\n",
       "}\n",
       "\n",
       "div.exercise {\n",
       "\tbackground-color: #ffcccc;\n",
       "\tborder-color: #E9967A; \t\n",
       "\tborder-left: 5px solid #800080; \n",
       "\tpadding: 0.5em;\n",
       "}\n",
       "\n",
       "div.exercise-r {\n",
       "\tbackground-color: #fce8e8;\n",
       "\tborder-color: #E9967A; \t\n",
       "\tborder-left: 5px solid #800080; \n",
       "\tpadding: 0.5em;\n",
       "}\n",
       "\n",
       "\n",
       "span.sub-q {\n",
       "\tfont-weight: bold;\n",
       "}\n",
       "div.theme {\n",
       "\tbackground-color: #DDDDDD;\n",
       "\tborder-color: #E9967A; \t\n",
       "\tborder-left: 5px solid #800080; \n",
       "\tpadding: 0.5em;\n",
       "\tfont-size: 18pt;\n",
       "}\n",
       "div.gc { \n",
       "\tbackground-color: #AEDE94;\n",
       "\tborder-color: #E9967A; \t \n",
       "\tborder-left: 5px solid #800080; \n",
       "\tpadding: 0.5em;\n",
       "\tfont-size: 12pt;\n",
       "}\n",
       "p.q1 { \n",
       "    padding-top: 5px;\n",
       "    padding-bottom: 5px;\n",
       "    text-align: left; \n",
       "    padding-left: 5px;\n",
       "    background-color: #EEEEEE; \n",
       "    color: black;\n",
       "}\n",
       "header {\n",
       "   padding-top: 35px;\n",
       "    padding-bottom: 35px;\n",
       "    text-align: left; \n",
       "    padding-left: 10px;\n",
       "    background-color: #DDDDDD; \n",
       "    color: black;\n",
       "}\n",
       "</style>\n",
       "\n"
      ],
      "text/plain": [
       "<IPython.core.display.HTML object>"
      ]
     },
     "execution_count": 1,
     "metadata": {},
     "output_type": "execute_result"
    }
   ],
   "source": [
    "#RUN THIS CELL \n",
    "import requests\n",
    "from IPython.core.display import HTML\n",
    "styles = requests.get(\n",
    "    \"https://raw.githubusercontent.com/Harvard-IACS/2018-CS109A/master/content/styles/cs109.css\"\n",
    ").text\n",
    "HTML(styles)"
   ]
  },
  {
   "cell_type": "code",
   "execution_count": 24,
   "metadata": {},
   "outputs": [],
   "source": [
    "import re\n",
    "import requests\n",
    "import sys\n",
    "from time import sleep\n",
    "from bs4 import BeautifulSoup\n",
    "import numpy as np\n",
    "import pandas as pd\n",
    "import matplotlib.pyplot as plt\n",
    "import functools\n",
    "\n",
    "from sklearn.utils import shuffle\n",
    "from sklearn.utils import resample\n",
    "\n",
    "from sklearn.preprocessing import PolynomialFeatures\n",
    "from sklearn.preprocessing import MinMaxScaler\n",
    "from sklearn.preprocessing import StandardScaler\n",
    "from sklearn.preprocessing import MinMaxScaler\n",
    "\n",
    "from sklearn.linear_model import LinearRegression\n",
    "from sklearn.linear_model import Lasso\n",
    "from sklearn.linear_model import ElasticNet\n",
    "\n",
    "from sklearn.metrics import mean_squared_error\n",
    "from sklearn.metrics import accuracy_score\n",
    "\n",
    "from sklearn.model_selection import cross_validate\n",
    "from sklearn.model_selection import cross_val_score\n",
    "from sklearn.model_selection import train_test_split\n",
    "from sklearn.model_selection import GridSearchCV\n",
    "\n",
    "from sklearn.inspection import permutation_importance\n",
    "\n",
    "from sklearn.tree import DecisionTreeClassifier\n",
    "from sklearn.ensemble import RandomForestRegressor\n",
    "from sklearn.ensemble import AdaBoostClassifier\n",
    "\n",
    "from sklearn.decomposition import PCA\n",
    "\n",
    "from collections import OrderedDict\n",
    "\n",
    "%matplotlib inline\n",
    "\n",
    "import seaborn as sns\n",
    "sns.set(style='whitegrid')\n",
    "pd.set_option('display.width', 1500)\n",
    "pd.set_option('display.max_columns', 100)"
   ]
  },
  {
   "cell_type": "code",
   "execution_count": 3,
   "metadata": {},
   "outputs": [],
   "source": [
    "# create a progressbar function\n",
    "def progressbar(n_step, n_total):\n",
    "    \"\"\"Prints self-updating progress bar to stdout to track for-loop progress\n",
    "    \n",
    "    There are entire 3rd-party libraries dedicated to custom progress-bars.\n",
    "    A simple function like this is often more than enough to get the job done.\n",
    "    \n",
    "    :param n_total: total number of expected for-loop iterations\n",
    "    :type n_total: int\n",
    "    :param n_step: current iteration number, starting at 0\n",
    "    :type n_step: int\n",
    "\n",
    "    .. example::\n",
    "    \n",
    "        for i in range(n_iterations):\n",
    "            progressbar(i, n_iterations)\n",
    "            \n",
    "    .. source:\n",
    "    \n",
    "        This function is a simplified version of code found here:\n",
    "        https://stackoverflow.com/questions/3160699/python-progress-bar/15860757#15860757\n",
    "    \"\"\"\n",
    "    n_step = n_step + 1\n",
    "    barlen = 50\n",
    "    progress = n_step / n_total\n",
    "    block = int(round(barlen * progress))\n",
    "    status = \"\"\n",
    "    if n_step == n_total:\n",
    "        status = \"Done...\\r\\n\\n\"\n",
    "    text = \"\\r [{0}] {1}/{2} {3}\".format(\n",
    "        \"=\" * block + \"-\" * (barlen - block),\n",
    "        n_step,\n",
    "        n_total,\n",
    "        status,\n",
    "    )\n",
    "    sys.stdout.write(text)\n",
    "    sys.stdout.flush()"
   ]
  },
  {
   "cell_type": "markdown",
   "metadata": {},
   "source": [
    "## dataset"
   ]
  },
  {
   "cell_type": "code",
   "execution_count": 4,
   "metadata": {},
   "outputs": [],
   "source": [
    "# Load data\n",
    "df = pd.read_csv('data/df_fifa.csv')"
   ]
  },
  {
   "cell_type": "markdown",
   "metadata": {},
   "source": [
    "To do\n",
    "- select only European Division 1 leagues\n",
    "- compare average overall scores of players by club"
   ]
  },
  {
   "cell_type": "markdown",
   "metadata": {},
   "source": [
    "# Data handling"
   ]
  },
  {
   "cell_type": "markdown",
   "metadata": {},
   "source": [
    "## create the dataset for Part C"
   ]
  },
  {
   "cell_type": "code",
   "execution_count": 45,
   "metadata": {},
   "outputs": [],
   "source": [
    "# select players in the following clubs as test set\n",
    "df_c = df[df['d_div1_league']==1]\n",
    "\n",
    "# extract league and club\n",
    "df_league_club = df_c.copy()\n",
    "df_league_club = df_league_club[['league_name','club']].drop_duplicates()\n",
    "df_league_club['variable'] = 'club_' + df_league_club['club']\n",
    "\n",
    "# create lead variables for overall and value_eur (overall and value scores in the following year)\n",
    "df_c = df_c.sort_values(['sofifa_id','year'])\n",
    "df_c.insert(9,'overall_next',df_c.groupby(['sofifa_id'])['overall'].shift(-1))\n",
    "df_c.insert(11,'value_eur_next',df_c.groupby(['sofifa_id'])['value_eur'].shift(-1))\n",
    "\n",
    "# create dummies for club, nationality, \n",
    "df_c_dummies = pd.get_dummies(df_c[['nationality','club','work_rate']])\n",
    "df_c = pd.concat([df_c, df_c_dummies], axis=1)"
   ]
  },
  {
   "cell_type": "markdown",
   "metadata": {},
   "source": [
    "## drop columns, imputation, and train-test divide"
   ]
  },
  {
   "cell_type": "code",
   "execution_count": 6,
   "metadata": {},
   "outputs": [],
   "source": [
    "df_c.to_csv('data/df_c.csv', index=False)"
   ]
  },
  {
   "cell_type": "code",
   "execution_count": 7,
   "metadata": {},
   "outputs": [],
   "source": [
    "# drop unnecessary columns\n",
    "drop_vars = ['sofifa_id','short_name','dob','nationality','club','wage_eur','preferred_foot','work_rate','body_type',\n",
    "             'team_position','team_jersey_number','joined','contract_valid_until','league_name','release_clause_eur',\n",
    "             'loaned_from','main_position','year']\n",
    "df_c_all = df_c.drop(drop_vars, axis=1)\n",
    "\n",
    "# impute zero values for fieldplayers and goalkeeping ability\n",
    "# this is because goalkeeping ability is not available for field players and vice versa\n",
    "impute_vars = ['ab_pace','ab_shooting','ab_passing','ab_dribbling','ab_defending','ab_physic'] + [x for x in df_c_all.columns if x.startswith('ab_gk')]\n",
    "for var in impute_vars:\n",
    "    df_c_all[var] = df_c_all[var].fillna(0)\n",
    "    \n",
    "# impute mean value for ab_mentality_conposure\n",
    "# Composure is a Player Attribute in FIFA that determines a player's the state or feeling of being calm and \n",
    "# controlling their frustration in matches frustration. (from FIFAplay)\n",
    "df_c_all['ab_mentality_composure'].fillna(df_c_all['ab_mentality_composure'].mean(), inplace=True)\n",
    "\n",
    "# save to csv\n",
    "df_c_all.to_csv('data/df_c_all.csv', index=False)"
   ]
  },
  {
   "cell_type": "code",
   "execution_count": 8,
   "metadata": {},
   "outputs": [
    {
     "data": {
      "text/plain": [
       "(10517, 357)"
      ]
     },
     "execution_count": 8,
     "metadata": {},
     "output_type": "execute_result"
    }
   ],
   "source": [
    "# separate a dataset for overall score regression and drop NA\n",
    "df_c_overall = df_c_all.copy().drop(['value_eur', 'value_eur_next'], axis=1)\n",
    "df_c_overall = df_c_overall.dropna()\n",
    "df_c_overall['diff_overall'] = df_c_overall['overall_next'] - df_c_overall['overall'] \n",
    "\n",
    "# save to csv\n",
    "df_c_overall.to_csv('data/df_c_overall.csv', index=False)\n",
    "df_c_overall.shape"
   ]
  },
  {
   "cell_type": "markdown",
   "metadata": {},
   "source": [
    "# Regression"
   ]
  },
  {
   "cell_type": "code",
   "execution_count": 9,
   "metadata": {},
   "outputs": [],
   "source": [
    "# assign X and y\n",
    "X = df_c_overall.drop(['overall_next','overall','diff_overall'], axis=1)\n",
    "y = df_c_overall['diff_overall']"
   ]
  },
  {
   "cell_type": "code",
   "execution_count": 10,
   "metadata": {},
   "outputs": [],
   "source": [
    "# standardization\n",
    "scaler = StandardScaler().fit(X)\n",
    "X_stan = scaler.transform(X)"
   ]
  },
  {
   "cell_type": "markdown",
   "metadata": {},
   "source": [
    "## LASSO"
   ]
  },
  {
   "cell_type": "code",
   "execution_count": 11,
   "metadata": {},
   "outputs": [
    {
     "name": "stdout",
     "output_type": "stream",
     "text": [
      " [==================================================] 5/5 Done...\n",
      "\n",
      "6.748080239017591 0.01\n"
     ]
    }
   ],
   "source": [
    "# set parameters\n",
    "la_alphas = [1e-2, 1e-1, 1, 1e+1, 1e+2]\n",
    "\n",
    "# create empty lists to store errors\n",
    "tr_err, val_err = [],[]\n",
    "\n",
    "# run regression for each alpha\n",
    "for i,alpha in enumerate(la_alphas):\n",
    "    # update progressbar\n",
    "    progressbar(i, len(la_alphas))\n",
    "    \n",
    "    # perform cross-validation on the training data with 10 folds and get the mse_scores\n",
    "    lasso = Lasso(alpha=alpha, max_iter=10000)\n",
    "    scores = cross_validate(lasso, X_stan, y, cv=5, scoring='neg_mean_squared_error', return_train_score=True)\n",
    "    \n",
    "    #Compute the train and validation MSE\n",
    "    tr_err.append(scores['train_score'].mean() * -1)\n",
    "    val_err.append(scores['test_score'].mean() * -1)\n",
    "\n",
    "# find the degree that returns the minimum validation error\n",
    "min_val_err = min(val_err)\n",
    "best_alpha = la_alphas[val_err.index(min_val_err)]\n",
    "print(min_val_err, best_alpha)"
   ]
  },
  {
   "cell_type": "code",
   "execution_count": 12,
   "metadata": {},
   "outputs": [],
   "source": [
    "# refit Lasso using best alpha\n",
    "lasso_best = Lasso(alpha=best_alpha, max_iter=10000)\n",
    "lasso_best.fit(X_stan, y)\n",
    "\n",
    "# compute permutation importance\n",
    "lasso_pi = permutation_importance(lasso_best, X_stan, y, scoring='neg_mean_squared_error', n_jobs=-1)\n",
    "\n",
    "# turn the result into dataframe\n",
    "df_lasso_pi = pd.DataFrame({'variable': X.columns, 'lasso': lasso_pi['importances_mean']})\n",
    "df_lasso_pi = df_lasso_pi.sort_values(by='lasso',ascending=False)"
   ]
  },
  {
   "cell_type": "code",
   "execution_count": 13,
   "metadata": {},
   "outputs": [],
   "source": [
    "df_lasso_pi.to_csv('data/df_lasso_pi.csv', index=False)"
   ]
  },
  {
   "cell_type": "markdown",
   "metadata": {},
   "source": [
    "## Elastic Net"
   ]
  },
  {
   "cell_type": "code",
   "execution_count": 14,
   "metadata": {},
   "outputs": [
    {
     "name": "stdout",
     "output_type": "stream",
     "text": [
      "Fitting 5 folds for each of 63 candidates, totalling 315 fits\n"
     ]
    },
    {
     "name": "stderr",
     "output_type": "stream",
     "text": [
      "[Parallel(n_jobs=-1)]: Using backend LokyBackend with 8 concurrent workers.\n",
      "[Parallel(n_jobs=-1)]: Done  34 tasks      | elapsed:  6.6min\n",
      "[Parallel(n_jobs=-1)]: Done 184 tasks      | elapsed:  8.9min\n",
      "[Parallel(n_jobs=-1)]: Done 315 out of 315 | elapsed:  8.9min finished\n"
     ]
    },
    {
     "data": {
      "text/plain": [
       "GridSearchCV(estimator=ElasticNet(max_iter=10000, random_state=0), n_jobs=-1,\n",
       "             param_grid={'alpha': array([1.e-03, 1.e-02, 1.e-01, 1.e+00, 1.e+01, 1.e+02, 1.e+03]),\n",
       "                         'l1_ratio': array([0.1, 0.2, 0.3, 0.4, 0.5, 0.6, 0.7, 0.8, 0.9])},\n",
       "             scoring='neg_mean_squared_error', verbose=1)"
      ]
     },
     "execution_count": 14,
     "metadata": {},
     "output_type": "execute_result"
    }
   ],
   "source": [
    "# parameters\n",
    "en_alphas = np.logspace(-3, 3, 7)\n",
    "en_l1ratios = np.arange(0.1, 1.0, 0.1)\n",
    " \n",
    "en_params = {'alpha': en_alphas,\n",
    "             'l1_ratio': en_l1ratios}\n",
    " \n",
    "# grid search\n",
    "en = ElasticNet(random_state=0, max_iter=10000)\n",
    "en_gs = GridSearchCV(estimator=en,param_grid=en_params,scoring='neg_mean_squared_error',verbose=1,n_jobs=-1)\n",
    "en_gs.fit(X_stan, y)"
   ]
  },
  {
   "cell_type": "code",
   "execution_count": 16,
   "metadata": {},
   "outputs": [],
   "source": [
    "# extract best parameters and estimator\n",
    "en_best_param = en_gs.best_params_\n",
    "en_best_estimator = en_gs.best_estimator_\n",
    "\n",
    "# compute permutation importance\n",
    "en_pi = permutation_importance(en_best_estimator, X_stan, y, scoring='neg_mean_squared_error', n_jobs=-1)\n",
    "\n",
    "# turn the result into dataframe\n",
    "df_en_pi = pd.DataFrame({'variable': X.columns, 'elastic_net': en_pi['importances_mean']})\n",
    "df_en_pi = df_en_pi.sort_values(by='elastic_net',ascending=False)"
   ]
  },
  {
   "cell_type": "code",
   "execution_count": 18,
   "metadata": {},
   "outputs": [],
   "source": [
    "df_en_pi.to_csv('data/df_en_pi.csv', index=False)"
   ]
  },
  {
   "cell_type": "markdown",
   "metadata": {},
   "source": [
    "## Random Forest (m=p/3)"
   ]
  },
  {
   "cell_type": "code",
   "execution_count": 19,
   "metadata": {},
   "outputs": [
    {
     "name": "stdout",
     "output_type": "stream",
     "text": [
      "4.463669055221737\n"
     ]
    }
   ],
   "source": [
    "# simple Random Forest regression\n",
    "rf = RandomForestRegressor(max_depth=10, max_features=int(X_stan.shape[1]/3), random_state=0)\n",
    "rf.fit(X_stan, y)\n",
    "\n",
    "rf_tr_pred = rf.predict(X_stan)\n",
    "rf_mse_tr = mean_squared_error(y, rf_tr_pred)\n",
    "print(rf_mse_tr)"
   ]
  },
  {
   "cell_type": "code",
   "execution_count": 20,
   "metadata": {},
   "outputs": [
    {
     "name": "stdout",
     "output_type": "stream",
     "text": [
      "Fitting 5 folds for each of 42 candidates, totalling 210 fits\n"
     ]
    },
    {
     "name": "stderr",
     "output_type": "stream",
     "text": [
      "[Parallel(n_jobs=-1)]: Using backend LokyBackend with 8 concurrent workers.\n",
      "[Parallel(n_jobs=-1)]: Done  34 tasks      | elapsed:  1.8min\n",
      "[Parallel(n_jobs=-1)]: Done 184 tasks      | elapsed: 11.6min\n",
      "[Parallel(n_jobs=-1)]: Done 210 out of 210 | elapsed: 14.1min finished\n"
     ]
    },
    {
     "data": {
      "text/plain": [
       "GridSearchCV(estimator=RandomForestRegressor(max_features=118, random_state=0,\n",
       "                                             warm_start=True),\n",
       "             n_jobs=-1,\n",
       "             param_grid={'max_depth': [4, 5, 6, 7, 8, 9],\n",
       "                         'n_estimators': [150, 200, 250, 300, 350, 400, 450]},\n",
       "             scoring='neg_mean_squared_error', verbose=1)"
      ]
     },
     "execution_count": 20,
     "metadata": {},
     "output_type": "execute_result"
    }
   ],
   "source": [
    "# parameters\n",
    "rf_trees = list(range(150, 500, 50))\n",
    "rf_depths = list(range(4, 10, 1))\n",
    " \n",
    "rf_params = {'n_estimators': rf_trees, \n",
    "             'max_depth': rf_depths}\n",
    " \n",
    "# grid search\n",
    "clf = RandomForestRegressor(warm_start=True,max_features=int(X_stan.shape[1]/3),random_state=0)\n",
    "clf_gs = GridSearchCV(estimator=clf,param_grid=rf_params,scoring='neg_mean_squared_error',verbose=1,n_jobs=-1)\n",
    "clf_gs.fit(X_stan, y)"
   ]
  },
  {
   "cell_type": "code",
   "execution_count": 21,
   "metadata": {},
   "outputs": [],
   "source": [
    "# extract best parameters and estimator\n",
    "clf_best_param = clf_gs.best_params_\n",
    "clf_best_estimator = clf_gs.best_estimator_\n",
    "\n",
    "# compute permutation importance\n",
    "rf_pi = permutation_importance(clf_best_estimator, X_stan, y, scoring='neg_mean_squared_error', n_jobs=-1)\n",
    "\n",
    "# turn the result into dataframe\n",
    "df_rf_pi = pd.DataFrame({'variable': X.columns, 'random_forest': rf_pi['importances_mean']})\n",
    "df_rf_pi = df_rf_pi.sort_values(by='random_forest',ascending=False)"
   ]
  },
  {
   "cell_type": "code",
   "execution_count": 22,
   "metadata": {},
   "outputs": [],
   "source": [
    "df_rf_pi.to_csv('data/df_rf_pi.csv', index=False)"
   ]
  },
  {
   "cell_type": "markdown",
   "metadata": {},
   "source": [
    "# Visualization"
   ]
  },
  {
   "cell_type": "code",
   "execution_count": 25,
   "metadata": {},
   "outputs": [
    {
     "data": {
      "text/html": [
       "<div>\n",
       "<style scoped>\n",
       "    .dataframe tbody tr th:only-of-type {\n",
       "        vertical-align: middle;\n",
       "    }\n",
       "\n",
       "    .dataframe tbody tr th {\n",
       "        vertical-align: top;\n",
       "    }\n",
       "\n",
       "    .dataframe thead th {\n",
       "        text-align: right;\n",
       "    }\n",
       "</style>\n",
       "<table border=\"1\" class=\"dataframe\">\n",
       "  <thead>\n",
       "    <tr style=\"text-align: right;\">\n",
       "      <th></th>\n",
       "      <th>variable</th>\n",
       "      <th>lasso</th>\n",
       "      <th>elastic_net</th>\n",
       "      <th>random_forest</th>\n",
       "    </tr>\n",
       "  </thead>\n",
       "  <tbody>\n",
       "    <tr>\n",
       "      <th>0</th>\n",
       "      <td>age</td>\n",
       "      <td>0.705445</td>\n",
       "      <td>0.611701</td>\n",
       "      <td>1.373173e+00</td>\n",
       "    </tr>\n",
       "    <tr>\n",
       "      <th>1</th>\n",
       "      <td>ab_movement_reactions</td>\n",
       "      <td>0.490214</td>\n",
       "      <td>0.453141</td>\n",
       "      <td>9.267627e-01</td>\n",
       "    </tr>\n",
       "    <tr>\n",
       "      <th>2</th>\n",
       "      <td>ab_skill_ball_control</td>\n",
       "      <td>0.351721</td>\n",
       "      <td>0.092524</td>\n",
       "      <td>2.406374e-01</td>\n",
       "    </tr>\n",
       "    <tr>\n",
       "      <th>3</th>\n",
       "      <td>d_pos_GK</td>\n",
       "      <td>0.343786</td>\n",
       "      <td>0.026946</td>\n",
       "      <td>8.385480e-07</td>\n",
       "    </tr>\n",
       "    <tr>\n",
       "      <th>4</th>\n",
       "      <td>ab_attacking_short_passing</td>\n",
       "      <td>0.249362</td>\n",
       "      <td>0.116767</td>\n",
       "      <td>1.314398e-01</td>\n",
       "    </tr>\n",
       "    <tr>\n",
       "      <th>...</th>\n",
       "      <td>...</td>\n",
       "      <td>...</td>\n",
       "      <td>...</td>\n",
       "      <td>...</td>\n",
       "    </tr>\n",
       "    <tr>\n",
       "      <th>349</th>\n",
       "      <td>nationality_Curacao</td>\n",
       "      <td>-0.000040</td>\n",
       "      <td>0.000037</td>\n",
       "      <td>0.000000e+00</td>\n",
       "    </tr>\n",
       "    <tr>\n",
       "      <th>350</th>\n",
       "      <td>nationality_Northern Ireland</td>\n",
       "      <td>-0.000049</td>\n",
       "      <td>0.000103</td>\n",
       "      <td>5.404835e-04</td>\n",
       "    </tr>\n",
       "    <tr>\n",
       "      <th>351</th>\n",
       "      <td>nationality_Austria</td>\n",
       "      <td>-0.000095</td>\n",
       "      <td>0.000182</td>\n",
       "      <td>7.595143e-04</td>\n",
       "    </tr>\n",
       "    <tr>\n",
       "      <th>352</th>\n",
       "      <td>club_RC Celta</td>\n",
       "      <td>-0.000122</td>\n",
       "      <td>0.000467</td>\n",
       "      <td>4.348474e-03</td>\n",
       "    </tr>\n",
       "    <tr>\n",
       "      <th>353</th>\n",
       "      <td>club_SC Paderborn 07</td>\n",
       "      <td>-0.000206</td>\n",
       "      <td>0.001915</td>\n",
       "      <td>3.390147e-04</td>\n",
       "    </tr>\n",
       "  </tbody>\n",
       "</table>\n",
       "<p>354 rows × 4 columns</p>\n",
       "</div>"
      ],
      "text/plain": [
       "                         variable     lasso  elastic_net  random_forest\n",
       "0                             age  0.705445     0.611701   1.373173e+00\n",
       "1           ab_movement_reactions  0.490214     0.453141   9.267627e-01\n",
       "2           ab_skill_ball_control  0.351721     0.092524   2.406374e-01\n",
       "3                        d_pos_GK  0.343786     0.026946   8.385480e-07\n",
       "4      ab_attacking_short_passing  0.249362     0.116767   1.314398e-01\n",
       "..                            ...       ...          ...            ...\n",
       "349           nationality_Curacao -0.000040     0.000037   0.000000e+00\n",
       "350  nationality_Northern Ireland -0.000049     0.000103   5.404835e-04\n",
       "351           nationality_Austria -0.000095     0.000182   7.595143e-04\n",
       "352                 club_RC Celta -0.000122     0.000467   4.348474e-03\n",
       "353          club_SC Paderborn 07 -0.000206     0.001915   3.390147e-04\n",
       "\n",
       "[354 rows x 4 columns]"
      ]
     },
     "execution_count": 25,
     "metadata": {},
     "output_type": "execute_result"
    }
   ],
   "source": [
    "# compile the list of dataframes to merge\n",
    "# merge all dataframes\n",
    "merge_dfs = [df_lasso_pi, df_en_pi, df_rf_pi]\n",
    "df_pi = functools.reduce(lambda  left,right: pd.merge(left,right,on=['variable']), merge_dfs)\n",
    "df_pi"
   ]
  },
  {
   "cell_type": "code",
   "execution_count": 48,
   "metadata": {},
   "outputs": [
    {
     "data": {
      "text/html": [
       "<div>\n",
       "<style scoped>\n",
       "    .dataframe tbody tr th:only-of-type {\n",
       "        vertical-align: middle;\n",
       "    }\n",
       "\n",
       "    .dataframe tbody tr th {\n",
       "        vertical-align: top;\n",
       "    }\n",
       "\n",
       "    .dataframe thead th {\n",
       "        text-align: right;\n",
       "    }\n",
       "</style>\n",
       "<table border=\"1\" class=\"dataframe\">\n",
       "  <thead>\n",
       "    <tr style=\"text-align: right;\">\n",
       "      <th></th>\n",
       "      <th>variable</th>\n",
       "      <th>lasso</th>\n",
       "      <th>elastic_net</th>\n",
       "      <th>random_forest</th>\n",
       "      <th>lasso_rescale</th>\n",
       "      <th>elastic_net_rescale</th>\n",
       "      <th>random_forest_rescale</th>\n",
       "      <th>mean</th>\n",
       "      <th>league_name</th>\n",
       "      <th>club</th>\n",
       "    </tr>\n",
       "  </thead>\n",
       "  <tbody>\n",
       "    <tr>\n",
       "      <th>1</th>\n",
       "      <td>club_Granada CF</td>\n",
       "      <td>0.028969</td>\n",
       "      <td>0.024427</td>\n",
       "      <td>0.002807</td>\n",
       "      <td>0.943408</td>\n",
       "      <td>0.908246</td>\n",
       "      <td>0.052418</td>\n",
       "      <td>63.469052</td>\n",
       "      <td>Spain Primera Division</td>\n",
       "      <td>Granada CF</td>\n",
       "    </tr>\n",
       "    <tr>\n",
       "      <th>3</th>\n",
       "      <td>club_CA Osasuna</td>\n",
       "      <td>0.018003</td>\n",
       "      <td>0.015728</td>\n",
       "      <td>0.003405</td>\n",
       "      <td>0.588794</td>\n",
       "      <td>0.584975</td>\n",
       "      <td>0.063962</td>\n",
       "      <td>41.257710</td>\n",
       "      <td>Spain Primera Division</td>\n",
       "      <td>CA Osasuna</td>\n",
       "    </tr>\n",
       "    <tr>\n",
       "      <th>9</th>\n",
       "      <td>club_Real Madrid</td>\n",
       "      <td>0.015589</td>\n",
       "      <td>0.014845</td>\n",
       "      <td>0.002090</td>\n",
       "      <td>0.510763</td>\n",
       "      <td>0.552171</td>\n",
       "      <td>0.038559</td>\n",
       "      <td>36.716405</td>\n",
       "      <td>Spain Primera Division</td>\n",
       "      <td>Real Madrid</td>\n",
       "    </tr>\n",
       "    <tr>\n",
       "      <th>10</th>\n",
       "      <td>club_RCD Espanyol</td>\n",
       "      <td>0.012973</td>\n",
       "      <td>0.011602</td>\n",
       "      <td>0.009620</td>\n",
       "      <td>0.426143</td>\n",
       "      <td>0.431626</td>\n",
       "      <td>0.184065</td>\n",
       "      <td>34.727800</td>\n",
       "      <td>Spain Primera Division</td>\n",
       "      <td>RCD Espanyol</td>\n",
       "    </tr>\n",
       "    <tr>\n",
       "      <th>25</th>\n",
       "      <td>club_Sevilla FC</td>\n",
       "      <td>0.005108</td>\n",
       "      <td>0.003815</td>\n",
       "      <td>0.006933</td>\n",
       "      <td>0.171843</td>\n",
       "      <td>0.142250</td>\n",
       "      <td>0.132138</td>\n",
       "      <td>14.874384</td>\n",
       "      <td>Spain Primera Division</td>\n",
       "      <td>Sevilla FC</td>\n",
       "    </tr>\n",
       "    <tr>\n",
       "      <th>...</th>\n",
       "      <td>...</td>\n",
       "      <td>...</td>\n",
       "      <td>...</td>\n",
       "      <td>...</td>\n",
       "      <td>...</td>\n",
       "      <td>...</td>\n",
       "      <td>...</td>\n",
       "      <td>...</td>\n",
       "      <td>...</td>\n",
       "      <td>...</td>\n",
       "    </tr>\n",
       "    <tr>\n",
       "      <th>92</th>\n",
       "      <td>club_Burnley</td>\n",
       "      <td>0.000000</td>\n",
       "      <td>0.000000</td>\n",
       "      <td>0.003178</td>\n",
       "      <td>0.006650</td>\n",
       "      <td>0.000468</td>\n",
       "      <td>0.059577</td>\n",
       "      <td>2.223198</td>\n",
       "      <td>English Premier League</td>\n",
       "      <td>Burnley</td>\n",
       "    </tr>\n",
       "    <tr>\n",
       "      <th>93</th>\n",
       "      <td>club_Everton</td>\n",
       "      <td>0.000000</td>\n",
       "      <td>0.000000</td>\n",
       "      <td>0.002795</td>\n",
       "      <td>0.006650</td>\n",
       "      <td>0.000468</td>\n",
       "      <td>0.052184</td>\n",
       "      <td>1.976772</td>\n",
       "      <td>English Premier League</td>\n",
       "      <td>Everton</td>\n",
       "    </tr>\n",
       "    <tr>\n",
       "      <th>86</th>\n",
       "      <td>club_Manchester United</td>\n",
       "      <td>0.000000</td>\n",
       "      <td>0.000000</td>\n",
       "      <td>0.002304</td>\n",
       "      <td>0.006650</td>\n",
       "      <td>0.000468</td>\n",
       "      <td>0.042704</td>\n",
       "      <td>1.660760</td>\n",
       "      <td>English Premier League</td>\n",
       "      <td>Manchester United</td>\n",
       "    </tr>\n",
       "    <tr>\n",
       "      <th>87</th>\n",
       "      <td>club_Liverpool</td>\n",
       "      <td>0.000000</td>\n",
       "      <td>0.000000</td>\n",
       "      <td>0.002138</td>\n",
       "      <td>0.006650</td>\n",
       "      <td>0.000468</td>\n",
       "      <td>0.039481</td>\n",
       "      <td>1.553322</td>\n",
       "      <td>English Premier League</td>\n",
       "      <td>Liverpool</td>\n",
       "    </tr>\n",
       "    <tr>\n",
       "      <th>78</th>\n",
       "      <td>club_Arsenal</td>\n",
       "      <td>0.000013</td>\n",
       "      <td>0.000246</td>\n",
       "      <td>0.001184</td>\n",
       "      <td>0.007060</td>\n",
       "      <td>0.009625</td>\n",
       "      <td>0.021046</td>\n",
       "      <td>1.257730</td>\n",
       "      <td>English Premier League</td>\n",
       "      <td>Arsenal</td>\n",
       "    </tr>\n",
       "  </tbody>\n",
       "</table>\n",
       "<p>98 rows × 10 columns</p>\n",
       "</div>"
      ],
      "text/plain": [
       "                  variable     lasso  elastic_net  random_forest  lasso_rescale  elastic_net_rescale  random_forest_rescale       mean             league_name               club\n",
       "1          club_Granada CF  0.028969     0.024427       0.002807       0.943408             0.908246               0.052418  63.469052  Spain Primera Division         Granada CF\n",
       "3          club_CA Osasuna  0.018003     0.015728       0.003405       0.588794             0.584975               0.063962  41.257710  Spain Primera Division         CA Osasuna\n",
       "9         club_Real Madrid  0.015589     0.014845       0.002090       0.510763             0.552171               0.038559  36.716405  Spain Primera Division        Real Madrid\n",
       "10       club_RCD Espanyol  0.012973     0.011602       0.009620       0.426143             0.431626               0.184065  34.727800  Spain Primera Division       RCD Espanyol\n",
       "25         club_Sevilla FC  0.005108     0.003815       0.006933       0.171843             0.142250               0.132138  14.874384  Spain Primera Division         Sevilla FC\n",
       "..                     ...       ...          ...            ...            ...                  ...                    ...        ...                     ...                ...\n",
       "92            club_Burnley  0.000000     0.000000       0.003178       0.006650             0.000468               0.059577   2.223198  English Premier League            Burnley\n",
       "93            club_Everton  0.000000     0.000000       0.002795       0.006650             0.000468               0.052184   1.976772  English Premier League            Everton\n",
       "86  club_Manchester United  0.000000     0.000000       0.002304       0.006650             0.000468               0.042704   1.660760  English Premier League  Manchester United\n",
       "87          club_Liverpool  0.000000     0.000000       0.002138       0.006650             0.000468               0.039481   1.553322  English Premier League          Liverpool\n",
       "78            club_Arsenal  0.000013     0.000246       0.001184       0.007060             0.009625               0.021046   1.257730  English Premier League            Arsenal\n",
       "\n",
       "[98 rows x 10 columns]"
      ]
     },
     "execution_count": 48,
     "metadata": {},
     "output_type": "execute_result"
    }
   ],
   "source": [
    "# merge all dataset\n",
    "df_pi_club = df_pi.copy()\n",
    "df_pi_club = df_pi_club.loc[df_pi_club['variable'].str.startswith('club')]\n",
    "\n",
    "# rescale all feature importance\n",
    "models = ['lasso', 'elastic_net', 'random_forest']\n",
    "models_rescale = []\n",
    "for model in models:\n",
    "    df_pi_club[model + '_rescale'] = MinMaxScaler().fit_transform(df_pi_club[[model]])\n",
    "    models_rescale.append(model + '_rescale')\n",
    "\n",
    "# calculate mean of all scores \n",
    "df_pi_club['mean'] = df_pi_club[models_rescale].mean(axis=1) * 100\n",
    "\n",
    "# merge league name\n",
    "df_pi_club = df_pi_club.merge(df_league_club, on='variable')\n",
    "df_pi_club = df_pi_club.sort_values(['league_name','mean'], ascending=False)\n",
    "df_pi_club.to_csv('data/df_pi_club.csv', index=False)\n",
    "df_pi_club"
   ]
  },
  {
   "cell_type": "code",
   "execution_count": 60,
   "metadata": {},
   "outputs": [
    {
     "data": {
      "text/plain": [
       "<BarContainer object of 98 artists>"
      ]
     },
     "execution_count": 60,
     "metadata": {},
     "output_type": "execute_result"
    },
    {
     "data": {
      "image/png": "[encoded data removed]",
      "text/plain": [
       "<Figure size 864x864 with 1 Axes>"
      ]
     },
     "metadata": {},
     "output_type": "display_data"
    }
   ],
   "source": [
    "# create a circular bar plot\n",
    "theta = np.linspace(0.0, 2 * np.pi, len(df_pi_club), endpoint=False)\n",
    "width = (2*np.pi) / len(df_pi_club)\n",
    "fig, ax = plt.subplots(1, 1, figsize=(12, 12), subplot_kw=dict(projection='polar'))\n",
    "ax.bar(theta, df_pi_club['mean'], width=width, bottom=40)\n"
   ]
  },
  {
   "cell_type": "code",
   "execution_count": 51,
   "metadata": {},
   "outputs": [
    {
     "data": {
      "image/png": "[encoded data removed]",
      "text/plain": [
       "<Figure size 432x288 with 1 Axes>"
      ]
     },
     "metadata": {},
     "output_type": "display_data"
    }
   ],
   "source": [
    "N = 80\n",
    "bottom = 8\n",
    "max_height = 4\n",
    "\n",
    "theta = np.linspace(0.0, 2 * np.pi, N, endpoint=False)\n",
    "radii = max_height*np.random.rand(N)\n",
    "width = (2*np.pi) / N\n",
    "\n",
    "ax = plt.subplot(111, polar=True)\n",
    "bars = ax.bar(theta, radii, width=width, bottom=bottom)\n",
    "\n",
    "# Use custom colors and opacity\n",
    "for r, bar in zip(radii, bars):\n",
    "    bar.set_facecolor(plt.cm.jet(r / 10.))\n",
    "    bar.set_alpha(0.8)\n",
    "\n",
    "plt.show()"
   ]
  },
  {
   "cell_type": "code",
   "execution_count": null,
   "metadata": {},
   "outputs": [],
   "source": []
  }
 ],
 "metadata": {
  "kernelspec": {
   "display_name": "Python 3",
   "language": "python",
   "name": "python3"
  },
  "language_info": {
   "codemirror_mode": {
    "name": "ipython",
    "version": 3
   },
   "file_extension": ".py",
   "mimetype": "text/x-python",
   "name": "python",
   "nbconvert_exporter": "python",
   "pygments_lexer": "ipython3",
   "version": "3.7.8"
  },
  "latex_envs": {
   "LaTeX_envs_menu_present": true,
   "autoclose": false,
   "autocomplete": true,
   "bibliofile": "biblio.bib",
   "cite_by": "apalike",
   "current_citInitial": 1,
   "eqLabelWithNumbers": true,
   "eqNumInitial": 1,
   "hotkeys": {
    "equation": "Ctrl-E",
    "itemize": "Ctrl-I"
   },
   "labels_anchors": false,
   "latex_user_defs": false,
   "report_style_numbering": false,
   "user_envs_cfg": false
  },
  "toc": {
   "base_numbering": 1,
   "nav_menu": {},
   "number_sections": true,
   "sideBar": true,
   "skip_h1_title": false,
   "title_cell": "Table of Contents",
   "title_sidebar": "Contents",
   "toc_cell": false,
   "toc_position": {
    "height": "calc(100% - 180px)",
    "left": "10px",
    "top": "150px",
    "width": "384px"
   },
   "toc_section_display": true,
   "toc_window_display": true
  },
  "varInspector": {
   "cols": {
    "lenName": 16,
    "lenType": 16,
    "lenVar": 40
   },
   "kernels_config": {
    "python": {
     "delete_cmd_postfix": "",
     "delete_cmd_prefix": "del ",
     "library": "var_list.py",
     "varRefreshCmd": "print(var_dic_list())"
    },
    "r": {
     "delete_cmd_postfix": ") ",
     "delete_cmd_prefix": "rm(",
     "library": "var_list.r",
     "varRefreshCmd": "cat(var_dic_list()) "
    }
   },
   "types_to_exclude": [
    "module",
    "function",
    "builtin_function_or_method",
    "instance",
    "_Feature"
   ],
   "window_display": false
  }
 },
 "nbformat": 4,
 "nbformat_minor": 4
}
